{
 "cells": [
  {
   "cell_type": "markdown",
   "id": "0e731b60-846a-49ec-96cc-362d4f07ec75",
   "metadata": {},
   "source": [
    "# Examples"
   ]
  },
  {
   "cell_type": "code",
   "execution_count": 1,
   "id": "a82f0ac4-b3d8-4e76-8aff-fbce378086dc",
   "metadata": {},
   "outputs": [],
   "source": [
    "import agentflow as af"
   ]
  },
  {
   "cell_type": "markdown",
   "id": "d6d2d550-1be9-440b-8f1a-37f84b3c9230",
   "metadata": {},
   "source": [
    "### Hub: Fetching an Agent"
   ]
  },
  {
   "cell_type": "code",
   "execution_count": 2,
   "id": "df01194a-3b85-4994-aaff-aa88780a54ab",
   "metadata": {},
   "outputs": [
    {
     "data": {
      "text/plain": [
       "<Task pending name='Task-5' coro=<ahub() running at /Users/achillesrasquinha/agentflow/src/agentflow/model/hub.py:34>>"
      ]
     },
     "execution_count": 2,
     "metadata": {},
     "output_type": "execute_result"
    },
    {
     "name": "stdout",
     "output_type": "stream",
     "text": [
      "{'objective': 'You are an AI assistant designed to help users with various tasks. Your goal is to provide accurate and helpful responses to user queries.'}\n"
     ]
    }
   ],
   "source": [
    "agent = af.hub(\"hello-world\")\n",
    "agent"
   ]
  },
  {
   "cell_type": "code",
   "execution_count": null,
   "id": "65307bf4-de12-40d7-bee6-4d61e59cd20e",
   "metadata": {},
   "outputs": [],
   "source": []
  }
 ],
 "metadata": {
  "kernelspec": {
   "display_name": "Python 3 (ipykernel)",
   "language": "python",
   "name": "python3"
  },
  "language_info": {
   "codemirror_mode": {
    "name": "ipython",
    "version": 3
   },
   "file_extension": ".py",
   "mimetype": "text/x-python",
   "name": "python",
   "nbconvert_exporter": "python",
   "pygments_lexer": "ipython3",
   "version": "3.10.9"
  }
 },
 "nbformat": 4,
 "nbformat_minor": 5
}
