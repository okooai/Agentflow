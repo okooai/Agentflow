{
 "cells": [
  {
   "cell_type": "markdown",
   "id": "0e731b60-846a-49ec-96cc-362d4f07ec75",
   "metadata": {},
   "source": [
    "# Examples"
   ]
  },
  {
   "cell_type": "code",
   "execution_count": 1,
   "id": "a82f0ac4-b3d8-4e76-8aff-fbce378086dc",
   "metadata": {},
   "outputs": [],
   "source": [
    "import agentflow as af"
   ]
  },
  {
   "cell_type": "markdown",
   "id": "0870bbf8-eb2f-4b48-99e4-0f3861c67006",
   "metadata": {},
   "source": [
    "## General"
   ]
  },
  {
   "cell_type": "markdown",
   "id": "3de0f347-0636-4304-bf70-938e9939d7e4",
   "metadata": {},
   "source": [
    "### ***Get Version, Build***"
   ]
  },
  {
   "cell_type": "code",
   "execution_count": 2,
   "id": "131da1da-205e-45b3-8331-126f13a71fc7",
   "metadata": {},
   "outputs": [
    {
     "data": {
      "text/plain": [
       "('0.1.0', '3387c27')"
      ]
     },
     "execution_count": 2,
     "metadata": {},
     "output_type": "execute_result"
    }
   ],
   "source": [
    "af.__version__, af.__build__"
   ]
  },
  {
   "cell_type": "code",
   "execution_count": 3,
   "id": "da28d78a-54b2-4745-828b-4fe69e8f8706",
   "metadata": {},
   "outputs": [
    {
     "data": {
      "text/plain": [
       "'0.1.0 (3387c27)'"
      ]
     },
     "execution_count": 3,
     "metadata": {},
     "output_type": "execute_result"
    }
   ],
   "source": [
    "af.get_version()"
   ]
  },
  {
   "cell_type": "markdown",
   "id": "84b92928-3380-4171-9c7d-993c54cf39aa",
   "metadata": {},
   "source": [
    "## Hub"
   ]
  },
  {
   "cell_type": "markdown",
   "id": "d6d2d550-1be9-440b-8f1a-37f84b3c9230",
   "metadata": {},
   "source": [
    "#### ***Fetching an Agent***"
   ]
  },
  {
   "cell_type": "code",
   "execution_count": 4,
   "id": "df01194a-3b85-4994-aaff-aa88780a54ab",
   "metadata": {},
   "outputs": [
    {
     "data": {
      "text/plain": [
       "<Agent name='hello-world'>"
      ]
     },
     "execution_count": 4,
     "metadata": {},
     "output_type": "execute_result"
    }
   ],
   "source": [
    "agent = af.hub(\"hello-world\")\n",
    "agent"
   ]
  },
  {
   "cell_type": "markdown",
   "id": "2c19594c-924f-465f-b547-90947569c0db",
   "metadata": {},
   "source": [
    "#### Async: ***Fetching an Agent***"
   ]
  },
  {
   "cell_type": "code",
   "execution_count": 5,
   "id": "4d9a86a8-1847-4a15-8536-5e1039500f5e",
   "metadata": {},
   "outputs": [],
   "source": [
    "agent = await af.ahub(\"hello-world\")"
   ]
  },
  {
   "cell_type": "markdown",
   "id": "b2accd1b-a3f8-400f-9aee-1ec4137c8e54",
   "metadata": {},
   "source": [
    "#### ***Fetching multiple Agents***"
   ]
  },
  {
   "cell_type": "code",
   "execution_count": 6,
   "id": "b55da3b1-2cc1-4bd6-922a-51a2b727e2fc",
   "metadata": {},
   "outputs": [
    {
     "data": {
      "text/plain": [
       "(<Agent name='hello-world'>, <Agent name='web-search'>)"
      ]
     },
     "execution_count": 6,
     "metadata": {},
     "output_type": "execute_result"
    }
   ],
   "source": [
    "hello, search = await af.ahub(\"hello-world\", \"web-search\")\n",
    "hello, search"
   ]
  },
  {
   "cell_type": "markdown",
   "id": "fc1b3d8f-607a-4544-84e1-a27cce3ef575",
   "metadata": {},
   "source": [
    "## Agent"
   ]
  },
  {
   "cell_type": "markdown",
   "id": "226b676c-6d5a-4ec8-9201-4e31c25784b1",
   "metadata": {},
   "source": [
    "#### ***Running an Agent***"
   ]
  },
  {
   "cell_type": "code",
   "execution_count": 7,
   "id": "369fc278-61f3-404d-bf9c-4c3e61280feb",
   "metadata": {},
   "outputs": [],
   "source": [
    "agent(\"Hello\")"
   ]
  }
 ],
 "metadata": {
  "kernelspec": {
   "display_name": "Python 3 (ipykernel)",
   "language": "python",
   "name": "python3"
  },
  "language_info": {
   "codemirror_mode": {
    "name": "ipython",
    "version": 3
   },
   "file_extension": ".py",
   "mimetype": "text/x-python",
   "name": "python",
   "nbconvert_exporter": "python",
   "pygments_lexer": "ipython3",
   "version": "3.10.9"
  }
 },
 "nbformat": 4,
 "nbformat_minor": 5
}
