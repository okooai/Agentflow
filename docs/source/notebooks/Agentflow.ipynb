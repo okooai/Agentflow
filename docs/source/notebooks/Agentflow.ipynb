{
 "cells": [
  {
   "cell_type": "code",
   "execution_count": 1,
   "id": "16d9e679-5ce4-46a4-b9f8-825a8867f44b",
   "metadata": {},
   "outputs": [],
   "source": [
    "import agentflow as af"
   ]
  },
  {
   "cell_type": "code",
   "execution_count": 2,
   "id": "9749da48-d020-4c35-b63a-053ba7b63e33",
   "metadata": {},
   "outputs": [],
   "source": [
    "agent = af.hub(\"hello-world\")"
   ]
  },
  {
   "cell_type": "code",
   "execution_count": 3,
   "id": "f7135fbc-00d8-4087-82d2-5126f4723476",
   "metadata": {},
   "outputs": [],
   "source": [
    "agent.run(\"Hello!\")"
   ]
  },
  {
   "cell_type": "code",
   "execution_count": null,
   "id": "77c390a1-5e96-473f-bf91-f75027eed40a",
   "metadata": {},
   "outputs": [],
   "source": []
  }
 ],
 "metadata": {
  "kernelspec": {
   "display_name": "Python 3 (ipykernel)",
   "language": "python",
   "name": "python3"
  },
  "language_info": {
   "codemirror_mode": {
    "name": "ipython",
    "version": 3
   },
   "file_extension": ".py",
   "mimetype": "text/x-python",
   "name": "python",
   "nbconvert_exporter": "python",
   "pygments_lexer": "ipython3",
   "version": "3.10.9"
  }
 },
 "nbformat": 4,
 "nbformat_minor": 5
}
