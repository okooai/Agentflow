{
 "cells": [
  {
   "cell_type": "markdown",
   "id": "0e731b60-846a-49ec-96cc-362d4f07ec75",
   "metadata": {},
   "source": [
    "# Examples"
   ]
  },
  {
   "cell_type": "code",
   "execution_count": null,
   "id": "a82f0ac4-b3d8-4e76-8aff-fbce378086dc",
   "metadata": {},
   "outputs": [],
   "source": [
    "import agentflow as af"
   ]
  },
  {
   "cell_type": "markdown",
   "id": "d6d2d550-1be9-440b-8f1a-37f84b3c9230",
   "metadata": {},
   "source": [
    "### Hub: Fetching an Agent"
   ]
  },
  {
   "cell_type": "code",
   "execution_count": null,
   "id": "df01194a-3b85-4994-aaff-aa88780a54ab",
   "metadata": {},
   "outputs": [],
   "source": [
    "agent = af.hub(\"hello-world\")\n",
    "agent"
   ]
  },
  {
   "cell_type": "markdown",
   "id": "2c19594c-924f-465f-b547-90947569c0db",
   "metadata": {},
   "source": [
    "### Hub: Fetching an Agent (Asynchronous)"
   ]
  },
  {
   "cell_type": "code",
   "execution_count": null,
   "id": "4d9a86a8-1847-4a15-8536-5e1039500f5e",
   "metadata": {},
   "outputs": [],
   "source": [
    "agent = await af.ahub(\"hello-world\")"
   ]
  },
  {
   "cell_type": "markdown",
   "id": "b2accd1b-a3f8-400f-9aee-1ec4137c8e54",
   "metadata": {},
   "source": [
    "### Hub: Fetching Multiple Agents"
   ]
  },
  {
   "cell_type": "code",
   "execution_count": null,
   "id": "b55da3b1-2cc1-4bd6-922a-51a2b727e2fc",
   "metadata": {},
   "outputs": [],
   "source": [
    "hello, search = await af.ahub(\"hello-world\", \"web-search\")"
   ]
  },
  {
   "cell_type": "code",
   "execution_count": null,
   "id": "8e570091-0848-45eb-a0d9-1511435ad1bb",
   "metadata": {},
   "outputs": [],
   "source": []
  }
 ],
 "metadata": {
  "kernelspec": {
   "display_name": "Python 3 (ipykernel)",
   "language": "python",
   "name": "python3"
  },
  "language_info": {
   "codemirror_mode": {
    "name": "ipython",
    "version": 3
   },
   "file_extension": ".py",
   "mimetype": "text/x-python",
   "name": "python",
   "nbconvert_exporter": "python",
   "pygments_lexer": "ipython3",
   "version": "3.10.9"
  }
 },
 "nbformat": 4,
 "nbformat_minor": 5
}
