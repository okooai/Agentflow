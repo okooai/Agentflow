{
 "cells": [
  {
   "cell_type": "markdown",
   "id": "0e731b60-846a-49ec-96cc-362d4f07ec75",
   "metadata": {},
   "source": [
    "# Examples"
   ]
  },
  {
   "cell_type": "code",
   "execution_count": null,
   "id": "a82f0ac4-b3d8-4e76-8aff-fbce378086dc",
   "metadata": {},
   "outputs": [],
   "source": [
    "import agentflow as af"
   ]
  },
  {
   "cell_type": "markdown",
   "id": "0870bbf8-eb2f-4b48-99e4-0f3861c67006",
   "metadata": {},
   "source": [
    "## General"
   ]
  },
  {
   "cell_type": "markdown",
   "id": "3de0f347-0636-4304-bf70-938e9939d7e4",
   "metadata": {},
   "source": [
    "### ***Get Version, Build***"
   ]
  },
  {
   "cell_type": "code",
   "execution_count": 2,
   "id": "131da1da-205e-45b3-8331-126f13a71fc7",
   "metadata": {},
   "outputs": [
    {
     "data": {
      "text/plain": [
       "('0.1.0', 'bc5a615')"
      ]
     },
     "execution_count": 2,
     "metadata": {},
     "output_type": "execute_result"
    }
   ],
   "source": [
    "af.__version__, af.__build__"
   ]
  },
  {
   "cell_type": "code",
   "execution_count": 3,
   "id": "da28d78a-54b2-4745-828b-4fe69e8f8706",
   "metadata": {},
   "outputs": [
    {
     "data": {
      "text/plain": [
       "'0.1.0 (bc5a615)'"
      ]
     },
     "execution_count": 3,
     "metadata": {},
     "output_type": "execute_result"
    }
   ],
   "source": [
    "af.get_version()"
   ]
  },
  {
   "cell_type": "markdown",
   "id": "84b92928-3380-4171-9c7d-993c54cf39aa",
   "metadata": {},
   "source": [
    "## Hub"
   ]
  },
  {
   "cell_type": "markdown",
   "id": "0faab5fb-8c60-4925-bb41-6e0ce66ec60d",
   "metadata": {},
   "source": [
    "Agentflow uses a concept of a \"**Hub**\" (also known as the **Agent Registry**) to host and discover agents.\n",
    "\n",
    "Agents are identified using the format: `<namespace>/<name>[:<tag>]`. If the namespace is omitted, Agentflow defaults to its [official registry on GitHub](https://github.com/achillesrasquinha/Agentflow/tree/develop/data/hub). If no tag is provided, it defaults to `latest`."
   ]
  },
  {
   "cell_type": "markdown",
   "id": "d6d2d550-1be9-440b-8f1a-37f84b3c9230",
   "metadata": {},
   "source": [
    "#### ***Fetching an Agent***"
   ]
  },
  {
   "cell_type": "code",
   "execution_count": 4,
   "id": "df01194a-3b85-4994-aaff-aa88780a54ab",
   "metadata": {},
   "outputs": [
    {
     "data": {
      "text/plain": [
       "<Agent id='4730726208' name='hello-world'>"
      ]
     },
     "execution_count": 4,
     "metadata": {},
     "output_type": "execute_result"
    }
   ],
   "source": [
    "agent = af.hub(\"hello-world\")\n",
    "agent"
   ]
  },
  {
   "cell_type": "markdown",
   "id": "9e4467b3-52d2-4d8e-920a-c901532600a2",
   "metadata": {},
   "source": [
    "##### ****Command-Line Interface****"
   ]
  },
  {
   "cell_type": "markdown",
   "id": "b27d129a-04ad-4268-9d4c-d4dabd788249",
   "metadata": {},
   "source": [
    "```shell\n",
    "$ af get hello-world\n",
    "```"
   ]
  },
  {
   "cell_type": "markdown",
   "id": "2c19594c-924f-465f-b547-90947569c0db",
   "metadata": {},
   "source": [
    "#### Async: ***Fetching an Agent***"
   ]
  },
  {
   "cell_type": "code",
   "execution_count": 5,
   "id": "4d9a86a8-1847-4a15-8536-5e1039500f5e",
   "metadata": {},
   "outputs": [],
   "source": [
    "agent = await af.ahub(\"hello-world\")"
   ]
  },
  {
   "cell_type": "markdown",
   "id": "b2accd1b-a3f8-400f-9aee-1ec4137c8e54",
   "metadata": {},
   "source": [
    "#### ***Fetching multiple Agents***"
   ]
  },
  {
   "cell_type": "code",
   "execution_count": 6,
   "id": "b55da3b1-2cc1-4bd6-922a-51a2b727e2fc",
   "metadata": {},
   "outputs": [
    {
     "data": {
      "text/plain": [
       "(<Agent id='4423787104' name='hello-world'>,\n",
       " <Agent id='4731897984' name='web-search'>)"
      ]
     },
     "execution_count": 6,
     "metadata": {},
     "output_type": "execute_result"
    }
   ],
   "source": [
    "hello, search = await af.ahub(\"hello-world\", \"web-search\")\n",
    "hello, search"
   ]
  },
  {
   "cell_type": "markdown",
   "id": "5b5b561c-87fd-4a73-b00b-51bfed6c7fe4",
   "metadata": {},
   "source": [
    "##### ****Command-Line Interface****"
   ]
  },
  {
   "cell_type": "markdown",
   "id": "390a1a71-3a9a-4e26-aea0-551d81961cb9",
   "metadata": {},
   "source": [
    "```shell\n",
    "$ af get hello-world web-search\n",
    "```"
   ]
  },
  {
   "cell_type": "markdown",
   "id": "d68a7519-6867-4213-b758-278db0db7aff",
   "metadata": {},
   "source": [
    "#### ***Fetching Customly Hosted Agents***"
   ]
  },
  {
   "cell_type": "code",
   "execution_count": null,
   "id": "3ffa18f8-efbf-4c81-ad52-217fbcd1b45e",
   "metadata": {},
   "outputs": [],
   "source": [
    "# TODO\n",
    "agent = await af.hub(\"achillesrasquinha/weather\")"
   ]
  },
  {
   "cell_type": "markdown",
   "id": "2ed79fae-0990-4b7c-945c-afb2aeec6b00",
   "metadata": {},
   "source": [
    "#### ***List all Agents available locally***"
   ]
  },
  {
   "cell_type": "markdown",
   "id": "6c88f41a-b42c-48aa-b8be-b5d00b16f0a9",
   "metadata": {},
   "source": [
    "##### ****Command-Line Interface****"
   ]
  },
  {
   "cell_type": "markdown",
   "id": "25303846-a1e9-4372-beb5-1a4dd85f8d3b",
   "metadata": {},
   "source": [
    "```shell\n",
    "$ af list\n",
    "```"
   ]
  },
  {
   "cell_type": "markdown",
   "id": "fc1b3d8f-607a-4544-84e1-a27cce3ef575",
   "metadata": {},
   "source": [
    "## Agent"
   ]
  },
  {
   "cell_type": "markdown",
   "id": "226b676c-6d5a-4ec8-9201-4e31c25784b1",
   "metadata": {},
   "source": [
    "#### ***Running an Agent***"
   ]
  },
  {
   "cell_type": "code",
   "execution_count": 8,
   "id": "369fc278-61f3-404d-bf9c-4c3e61280feb",
   "metadata": {},
   "outputs": [],
   "source": [
    "agent(\"Hello\")"
   ]
  }
 ],
 "metadata": {
  "kernelspec": {
   "display_name": "Python 3 (ipykernel)",
   "language": "python",
   "name": "python3"
  },
  "language_info": {
   "codemirror_mode": {
    "name": "ipython",
    "version": 3
   },
   "file_extension": ".py",
   "mimetype": "text/x-python",
   "name": "python",
   "nbconvert_exporter": "python",
   "pygments_lexer": "ipython3",
   "version": "3.10.9"
  }
 },
 "nbformat": 4,
 "nbformat_minor": 5
}
